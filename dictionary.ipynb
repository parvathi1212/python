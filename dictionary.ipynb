{
 "cells": [
  {
   "cell_type": "markdown",
   "id": "0fddd8db",
   "metadata": {},
   "source": [
    "# Dictionary"
   ]
  },
  {
   "cell_type": "markdown",
   "id": "d3479ee6",
   "metadata": {},
   "source": [
    "Dictionaries are used to store data values in key:value pairs.\n",
    "\n",
    "It do not allow duplicate keys\n",
    "\n",
    "it is ordered"
   ]
  },
  {
   "cell_type": "markdown",
   "id": "343a38c2",
   "metadata": {},
   "source": [
    "## Methods:"
   ]
  },
  {
   "cell_type": "code",
   "execution_count": 1,
   "id": "0515c713",
   "metadata": {},
   "outputs": [],
   "source": [
    "#creating dict\n",
    "d = dict()\n",
    "d[0] = 'prasanna'"
   ]
  },
  {
   "cell_type": "code",
   "execution_count": 2,
   "id": "793d1eaa",
   "metadata": {},
   "outputs": [
    {
     "data": {
      "text/plain": [
       "{0: 'prasanna'}"
      ]
     },
     "execution_count": 2,
     "metadata": {},
     "output_type": "execute_result"
    }
   ],
   "source": [
    "d"
   ]
  },
  {
   "cell_type": "code",
   "execution_count": 3,
   "id": "31e1b0aa",
   "metadata": {},
   "outputs": [],
   "source": [
    "#adding element \n",
    "d.update({1:'lohi'})"
   ]
  },
  {
   "cell_type": "code",
   "execution_count": 4,
   "id": "e5d0ad28",
   "metadata": {},
   "outputs": [
    {
     "data": {
      "text/plain": [
       "{0: 'prasanna', 1: 'lohi'}"
      ]
     },
     "execution_count": 4,
     "metadata": {},
     "output_type": "execute_result"
    }
   ],
   "source": [
    "d"
   ]
  },
  {
   "cell_type": "code",
   "execution_count": 5,
   "id": "3c619aca",
   "metadata": {},
   "outputs": [
    {
     "data": {
      "text/plain": [
       "'prasanna'"
      ]
     },
     "execution_count": 5,
     "metadata": {},
     "output_type": "execute_result"
    }
   ],
   "source": [
    "#accessing elements\n",
    "d[0]"
   ]
  },
  {
   "cell_type": "code",
   "execution_count": 6,
   "id": "893977b2",
   "metadata": {},
   "outputs": [],
   "source": [
    "#changing values\n",
    "d[1] = 'updated'"
   ]
  },
  {
   "cell_type": "code",
   "execution_count": 7,
   "id": "03b37409",
   "metadata": {},
   "outputs": [
    {
     "data": {
      "text/plain": [
       "{0: 'prasanna', 1: 'updated'}"
      ]
     },
     "execution_count": 7,
     "metadata": {},
     "output_type": "execute_result"
    }
   ],
   "source": [
    "d"
   ]
  },
  {
   "cell_type": "code",
   "execution_count": 8,
   "id": "e273dbce",
   "metadata": {},
   "outputs": [],
   "source": [
    "#deleting elements\n",
    "del d[0]"
   ]
  },
  {
   "cell_type": "code",
   "execution_count": 9,
   "id": "32a171fd",
   "metadata": {},
   "outputs": [
    {
     "data": {
      "text/plain": [
       "{1: 'updated'}"
      ]
     },
     "execution_count": 9,
     "metadata": {},
     "output_type": "execute_result"
    }
   ],
   "source": [
    "d"
   ]
  },
  {
   "cell_type": "code",
   "execution_count": 10,
   "id": "4cddff72",
   "metadata": {},
   "outputs": [],
   "source": [
    "d[2] = 'python'"
   ]
  },
  {
   "cell_type": "code",
   "execution_count": 11,
   "id": "3f94c759",
   "metadata": {},
   "outputs": [
    {
     "data": {
      "text/plain": [
       "{1: 'updated', 2: 'python'}"
      ]
     },
     "execution_count": 11,
     "metadata": {},
     "output_type": "execute_result"
    }
   ],
   "source": [
    "d"
   ]
  },
  {
   "cell_type": "code",
   "execution_count": 12,
   "id": "10b558af",
   "metadata": {},
   "outputs": [
    {
     "data": {
      "text/plain": [
       "'python'"
      ]
     },
     "execution_count": 12,
     "metadata": {},
     "output_type": "execute_result"
    }
   ],
   "source": [
    "d.pop(2)"
   ]
  },
  {
   "cell_type": "code",
   "execution_count": 13,
   "id": "37b17569",
   "metadata": {},
   "outputs": [
    {
     "data": {
      "text/plain": [
       "{1: 'updated'}"
      ]
     },
     "execution_count": 13,
     "metadata": {},
     "output_type": "execute_result"
    }
   ],
   "source": [
    "d"
   ]
  },
  {
   "cell_type": "code",
   "execution_count": 16,
   "id": "efe02b5d",
   "metadata": {},
   "outputs": [],
   "source": [
    "#clearing elements of dictionary\n",
    "d.clear()"
   ]
  },
  {
   "cell_type": "code",
   "execution_count": 17,
   "id": "4d67c9b8",
   "metadata": {},
   "outputs": [
    {
     "data": {
      "text/plain": [
       "{}"
      ]
     },
     "execution_count": 17,
     "metadata": {},
     "output_type": "execute_result"
    }
   ],
   "source": [
    "d"
   ]
  },
  {
   "cell_type": "code",
   "execution_count": 18,
   "id": "ff90e0af",
   "metadata": {},
   "outputs": [],
   "source": [
    "d = {0:'item1',1:'item2',2:'item3'}"
   ]
  },
  {
   "cell_type": "code",
   "execution_count": 19,
   "id": "d46593d4",
   "metadata": {},
   "outputs": [
    {
     "data": {
      "text/plain": [
       "dict_keys([0, 1, 2])"
      ]
     },
     "execution_count": 19,
     "metadata": {},
     "output_type": "execute_result"
    }
   ],
   "source": [
    "d.keys()"
   ]
  },
  {
   "cell_type": "code",
   "execution_count": 20,
   "id": "7525fe99",
   "metadata": {},
   "outputs": [
    {
     "data": {
      "text/plain": [
       "dict_values(['item1', 'item2', 'item3'])"
      ]
     },
     "execution_count": 20,
     "metadata": {},
     "output_type": "execute_result"
    }
   ],
   "source": [
    "d.values()"
   ]
  },
  {
   "cell_type": "code",
   "execution_count": 21,
   "id": "cb8f0cad",
   "metadata": {},
   "outputs": [
    {
     "data": {
      "text/plain": [
       "dict_items([(0, 'item1'), (1, 'item2'), (2, 'item3')])"
      ]
     },
     "execution_count": 21,
     "metadata": {},
     "output_type": "execute_result"
    }
   ],
   "source": [
    "d.items()"
   ]
  },
  {
   "cell_type": "code",
   "execution_count": 24,
   "id": "1e0a65a9",
   "metadata": {},
   "outputs": [],
   "source": [
    "#copying dict\n",
    "d1 = d.copy()"
   ]
  },
  {
   "cell_type": "code",
   "execution_count": 25,
   "id": "04e10fed",
   "metadata": {},
   "outputs": [
    {
     "data": {
      "text/plain": [
       "{0: 'item1', 1: 'item2', 2: 'item3'}"
      ]
     },
     "execution_count": 25,
     "metadata": {},
     "output_type": "execute_result"
    }
   ],
   "source": [
    "d1"
   ]
  },
  {
   "cell_type": "markdown",
   "id": "b244a81a",
   "metadata": {},
   "source": [
    "# Ordered dict"
   ]
  },
  {
   "cell_type": "code",
   "execution_count": 26,
   "id": "74606d94",
   "metadata": {},
   "outputs": [
    {
     "name": "stdout",
     "output_type": "stream",
     "text": [
      "This is a Dict:\n",
      "\n",
      "a 1\n",
      "b 2\n",
      "c 3\n",
      "d 4\n",
      "\n",
      "This is an Ordered Dict:\n",
      "\n",
      "a 1\n",
      "b 2\n",
      "c 3\n",
      "d 4\n"
     ]
    }
   ],
   "source": [
    "from collections import OrderedDict\n",
    " \n",
    "print(\"This is a Dict:\\n\")\n",
    "d = {}\n",
    "d['a'] = 1\n",
    "d['b'] = 2\n",
    "d['c'] = 3\n",
    "d['d'] = 4\n",
    " \n",
    "for key, value in d.items():\n",
    "    print(key, value)\n",
    " \n",
    "print(\"\\nThis is an Ordered Dict:\\n\")\n",
    "od = OrderedDict()\n",
    "od['a'] = 1\n",
    "od['b'] = 2\n",
    "od['c'] = 3\n",
    "od['d'] = 4\n",
    " \n",
    "for key, value in od.items():\n",
    "    print(key, value)"
   ]
  },
  {
   "cell_type": "markdown",
   "id": "44099308",
   "metadata": {},
   "source": [
    "# list to dict"
   ]
  },
  {
   "cell_type": "code",
   "execution_count": 28,
   "id": "04e44b13",
   "metadata": {},
   "outputs": [
    {
     "name": "stdout",
     "output_type": "stream",
     "text": [
      "{'a': 1, 'b': 2, 'c': 3}\n"
     ]
    }
   ],
   "source": [
    "def Convert(lst):\n",
    "    res_dct = {lst[i]: lst[i + 1] for i in range(0, len(lst), 2)}\n",
    "    return res_dct\n",
    "         \n",
    "lst = ['a', 1, 'b', 2, 'c', 3]\n",
    "print(Convert(lst))"
   ]
  },
  {
   "cell_type": "markdown",
   "id": "6ff4c9fa",
   "metadata": {},
   "source": [
    "# dict to list"
   ]
  },
  {
   "cell_type": "code",
   "execution_count": 29,
   "id": "bb04c045",
   "metadata": {},
   "outputs": [
    {
     "name": "stdout",
     "output_type": "stream",
     "text": [
      "[('name', 'python'), ('version', 3.9)]\n"
     ]
    }
   ],
   "source": [
    "d = {\"name\":\"python\", \"version\":3.9}\n",
    "new_list = list(d.items())\n",
    "print(new_list)"
   ]
  },
  {
   "cell_type": "markdown",
   "id": "f5d11b2c",
   "metadata": {},
   "source": [
    "# nested dict"
   ]
  },
  {
   "cell_type": "code",
   "execution_count": 30,
   "id": "104d520f",
   "metadata": {},
   "outputs": [
    {
     "name": "stdout",
     "output_type": "stream",
     "text": [
      "John\n",
      "27\n",
      "Male\n"
     ]
    }
   ],
   "source": [
    "people = {1: {'name': 'John', 'age': '27', 'sex': 'Male'},\n",
    "          2: {'name': 'Marie', 'age': '22', 'sex': 'Female'}}\n",
    "\n",
    "print(people[1]['name'])\n",
    "print(people[1]['age'])\n",
    "print(people[1]['sex'])"
   ]
  },
  {
   "cell_type": "code",
   "execution_count": null,
   "id": "6ae7b4a1",
   "metadata": {},
   "outputs": [],
   "source": []
  }
 ],
 "metadata": {
  "kernelspec": {
   "display_name": "Python 3",
   "language": "python",
   "name": "python3"
  },
  "language_info": {
   "codemirror_mode": {
    "name": "ipython",
    "version": 3
   },
   "file_extension": ".py",
   "mimetype": "text/x-python",
   "name": "python",
   "nbconvert_exporter": "python",
   "pygments_lexer": "ipython3",
   "version": "3.8.8"
  }
 },
 "nbformat": 4,
 "nbformat_minor": 5
}
