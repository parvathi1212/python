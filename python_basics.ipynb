{
 "cells": [
  {
   "cell_type": "markdown",
   "id": "af992662",
   "metadata": {},
   "source": [
    "# print statement"
   ]
  },
  {
   "cell_type": "code",
   "execution_count": null,
   "id": "eb401555",
   "metadata": {},
   "outputs": [
    {
     "ename": "",
     "evalue": "",
     "output_type": "error",
     "traceback": [
      "\u001b[1;31mRunning cells with 'Python 3.9.13 64-bit (microsoft store)' requires ipykernel package.\n",
      "\u001b[1;31mRun the following command to install 'ipykernel' into the Python environment. \n",
      "\u001b[1;31mCommand: 'c:/Users/parva/AppData/Local/Microsoft/WindowsApps/python3.9.exe -m pip install ipykernel -U --force-reinstall'"
     ]
    }
   ],
   "source": [
    "a = int(input(\"Enter value of a:\"))\n",
    "b = int(input(\"Enter value of b:\"))\n",
    "print(\"Addition of values:\",a+b)"
   ]
  },
  {
   "cell_type": "markdown",
   "id": "99de7ec7",
   "metadata": {},
   "source": [
    "# formatted strings"
   ]
  },
  {
   "cell_type": "code",
   "execution_count": 3,
   "id": "eccc7937",
   "metadata": {},
   "outputs": [
    {
     "name": "stdout",
     "output_type": "stream",
     "text": [
      "Enter your name:Prasanna\n",
      "Welcome Prasanna\n"
     ]
    }
   ],
   "source": [
    "#we can pass variables with their name\n",
    "name = input(\"Enter your name:\")\n",
    "print(\"Welcome {}\".format(name))"
   ]
  },
  {
   "cell_type": "code",
   "execution_count": 4,
   "id": "0794abdd",
   "metadata": {},
   "outputs": [
    {
     "name": "stdout",
     "output_type": "stream",
     "text": [
      "Enter your favourite fruit:mango\n",
      "Enter your favourite number:3\n",
      "mango is your favourite fruit and fav number is 3\n"
     ]
    }
   ],
   "source": [
    "#we can also use keyword arguments\n",
    "fruit1 = input(\"Enter your favourite fruit:\")\n",
    "number = int(input(\"Enter your favourite number:\"))\n",
    "print(\"{fruit} is your favourite fruit and fav number is {}\".format(number,fruit = fruit1))"
   ]
  },
  {
   "cell_type": "code",
   "execution_count": 6,
   "id": "79ee250a",
   "metadata": {},
   "outputs": [
    {
     "name": "stdout",
     "output_type": "stream",
     "text": [
      "2\n",
      "3\n",
      "2 + 3 = 5\n"
     ]
    }
   ],
   "source": [
    "#here we number the places that accepts corresponding values\n",
    "\n",
    "num1 = int(input())\n",
    "num2 = int(input())\n",
    "print(\"{0} + {1} = {2}\".format(num1,num2,num1+num2))"
   ]
  },
  {
   "cell_type": "code",
   "execution_count": 9,
   "id": "69fa62d7",
   "metadata": {},
   "outputs": [
    {
     "name": "stdout",
     "output_type": "stream",
     "text": [
      "2\n",
      "float value is 2.000000\n",
      "float value upto 2 decimal points is 2.00\n"
     ]
    }
   ],
   "source": [
    "number = int(input())\n",
    "print(\"float value is {:f}\".format(number))\n",
    "print(\"float value upto 2 decimal points is {:.2f}\".format(number))"
   ]
  },
  {
   "cell_type": "markdown",
   "id": "e25c5721",
   "metadata": {},
   "source": [
    "# placeholders"
   ]
  },
  {
   "cell_type": "code",
   "execution_count": 12,
   "id": "4f96dda7",
   "metadata": {},
   "outputs": [
    {
     "name": "stdout",
     "output_type": "stream",
     "text": [
      "Enter value of a:2\n",
      "Enter value of b:3\n",
      "enter your name:Prasanna\n",
      "Addition of values : 5\n",
      "Congratulations Prasanna\n"
     ]
    }
   ],
   "source": [
    "# placeholders are placed based on the datatypes of variable\n",
    "a = int(input(\"Enter value of a:\"))\n",
    "b = int(input(\"Enter value of b:\"))\n",
    "name = input(\"enter your name:\")\n",
    "print(\"Addition of values : %i\"%(a+b))\n",
    "print(\"Congratulations %s\"%(name))"
   ]
  },
  {
   "cell_type": "markdown",
   "id": "761146cc",
   "metadata": {},
   "source": [
    "# Datatypes"
   ]
  },
  {
   "cell_type": "markdown",
   "id": "41d2598d",
   "metadata": {},
   "source": [
    "String"
   ]
  },
  {
   "cell_type": "code",
   "execution_count": 13,
   "id": "a4a275a7",
   "metadata": {},
   "outputs": [
    {
     "name": "stdout",
     "output_type": "stream",
     "text": [
      "Enter your name:prasanna\n",
      "<class 'str'>\n"
     ]
    }
   ],
   "source": [
    "name = input(\"Enter your name:\")\n",
    "print(type(name))"
   ]
  },
  {
   "cell_type": "code",
   "execution_count": 15,
   "id": "da8a187b",
   "metadata": {},
   "outputs": [
    {
     "name": "stdout",
     "output_type": "stream",
     "text": [
      "enter sentence:hello world\n",
      "['hello', 'world']\n"
     ]
    }
   ],
   "source": [
    "#string methods\n",
    "#split method splits a sentence based on the spaces provided\n",
    "sentence = input(\"enter sentence:\")\n",
    "words = sentence.split(\" \")\n",
    "print(words)"
   ]
  },
  {
   "cell_type": "code",
   "execution_count": 16,
   "id": "564e0a25",
   "metadata": {},
   "outputs": [
    {
     "name": "stdout",
     "output_type": "stream",
     "text": [
      "prasanna\n",
      "p\n",
      "Index: 0\n"
     ]
    }
   ],
   "source": [
    "#index of element\n",
    "word = input()\n",
    "letter = input()\n",
    "print(\"Index:\",word.index(letter))"
   ]
  },
  {
   "cell_type": "code",
   "execution_count": 18,
   "id": "7f19c2ba",
   "metadata": {},
   "outputs": [
    {
     "name": "stdout",
     "output_type": "stream",
     "text": [
      "prasanna\n",
      "index: 5\n"
     ]
    }
   ],
   "source": [
    "#find\n",
    "word = input()\n",
    "print(\"index:\",word.find('nna'))"
   ]
  },
  {
   "cell_type": "code",
   "execution_count": 19,
   "id": "d10cc721",
   "metadata": {},
   "outputs": [
    {
     "name": "stdout",
     "output_type": "stream",
     "text": [
      "i am parvathi\n",
      "I am parvathi\n"
     ]
    }
   ],
   "source": [
    "#capitalize\n",
    "word = input()\n",
    "print(word.capitalize())"
   ]
  },
  {
   "cell_type": "code",
   "execution_count": 21,
   "id": "68374543",
   "metadata": {},
   "outputs": [
    {
     "name": "stdout",
     "output_type": "stream",
     "text": [
      "Prasanna\n",
      "False\n"
     ]
    }
   ],
   "source": [
    "word = input()\n",
    "print(word.islower())"
   ]
  },
  {
   "cell_type": "markdown",
   "id": "087c121b",
   "metadata": {},
   "source": [
    "int"
   ]
  },
  {
   "cell_type": "code",
   "execution_count": 23,
   "id": "bc94384f",
   "metadata": {},
   "outputs": [
    {
     "name": "stdout",
     "output_type": "stream",
     "text": [
      "2\n",
      "<class 'int'>\n"
     ]
    }
   ],
   "source": [
    "num = int(input())\n",
    "print(type(num))"
   ]
  },
  {
   "cell_type": "markdown",
   "id": "9edb689e",
   "metadata": {},
   "source": [
    "float"
   ]
  },
  {
   "cell_type": "code",
   "execution_count": 26,
   "id": "00ae60de",
   "metadata": {},
   "outputs": [
    {
     "name": "stdout",
     "output_type": "stream",
     "text": [
      "2.56\n",
      "<class 'float'>\n"
     ]
    }
   ],
   "source": [
    "dec = float(input())\n",
    "print(type(dec))"
   ]
  },
  {
   "cell_type": "code",
   "execution_count": null,
   "id": "2b2eb387",
   "metadata": {},
   "outputs": [],
   "source": []
  }
 ],
 "metadata": {
  "kernelspec": {
   "display_name": "Python 3.9.13 64-bit (microsoft store)",
   "language": "python",
   "name": "python3"
  },
  "language_info": {
   "codemirror_mode": {
    "name": "ipython",
    "version": 3
   },
   "file_extension": ".py",
   "mimetype": "text/x-python",
   "name": "python",
   "nbconvert_exporter": "python",
   "pygments_lexer": "ipython3",
   "version": "3.9.13"
  },
  "vscode": {
   "interpreter": {
    "hash": "03bbf6316d2699cd883d82d13173fe0ee2459339b386b86f6078340ae0ed1dce"
   }
  }
 },
 "nbformat": 4,
 "nbformat_minor": 5
}
