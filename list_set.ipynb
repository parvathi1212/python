{
 "cells": [
  {
   "cell_type": "markdown",
   "id": "1af049f6",
   "metadata": {},
   "source": [
    "# LIST"
   ]
  },
  {
   "cell_type": "code",
   "execution_count": 1,
   "id": "1d8813dd",
   "metadata": {},
   "outputs": [],
   "source": [
    "#lists are used to store multiple items in a single variable\n",
    "#it can store heterogenous data\n",
    "#it allows duplicates"
   ]
  },
  {
   "cell_type": "code",
   "execution_count": 3,
   "id": "44b7aa00",
   "metadata": {},
   "outputs": [
    {
     "name": "stdout",
     "output_type": "stream",
     "text": [
      "[1, 2, 'prasanna']\n"
     ]
    }
   ],
   "source": [
    "l = [1,2,\"prasanna\"]\n",
    "print(l)"
   ]
  },
  {
   "cell_type": "code",
   "execution_count": 4,
   "id": "96d4f60d",
   "metadata": {},
   "outputs": [
    {
     "data": {
      "text/plain": [
       "list"
      ]
     },
     "execution_count": 4,
     "metadata": {},
     "output_type": "execute_result"
    }
   ],
   "source": [
    "type(l)"
   ]
  },
  {
   "cell_type": "code",
   "execution_count": 5,
   "id": "3b09e22e",
   "metadata": {},
   "outputs": [
    {
     "name": "stdout",
     "output_type": "stream",
     "text": [
      "prasanna\n",
      "['p', 'r', 'a', 's', 'a', 'n', 'n', 'a']\n"
     ]
    }
   ],
   "source": [
    "word = input()\n",
    "letters_word = list(word)\n",
    "print(letters_word)"
   ]
  },
  {
   "cell_type": "markdown",
   "id": "5ba924ec",
   "metadata": {},
   "source": [
    "Methods of list"
   ]
  },
  {
   "cell_type": "code",
   "execution_count": 6,
   "id": "67cc1e8d",
   "metadata": {},
   "outputs": [],
   "source": [
    "# append is used to add an item to the existing list\n",
    "l = [1,3,4]\n",
    "l.append(2)"
   ]
  },
  {
   "cell_type": "code",
   "execution_count": 7,
   "id": "06d9fbe9",
   "metadata": {},
   "outputs": [
    {
     "data": {
      "text/plain": [
       "[1, 3, 4, 2]"
      ]
     },
     "execution_count": 7,
     "metadata": {},
     "output_type": "execute_result"
    }
   ],
   "source": [
    "l"
   ]
  },
  {
   "cell_type": "code",
   "execution_count": 8,
   "id": "ae1908b1",
   "metadata": {},
   "outputs": [
    {
     "data": {
      "text/plain": [
       "0"
      ]
     },
     "execution_count": 8,
     "metadata": {},
     "output_type": "execute_result"
    }
   ],
   "source": [
    "# index is used to find the index of first occurence of the element in the list\n",
    "l = [1,2,3,1]\n",
    "l.index(1)"
   ]
  },
  {
   "cell_type": "code",
   "execution_count": 9,
   "id": "7e300e0f",
   "metadata": {},
   "outputs": [
    {
     "data": {
      "text/plain": [
       "4"
      ]
     },
     "execution_count": 9,
     "metadata": {},
     "output_type": "execute_result"
    }
   ],
   "source": [
    "#pop is used to delete element at specific index\n",
    "l = [1,2,3,4]\n",
    "l.pop() # by default it takes index = -1"
   ]
  },
  {
   "cell_type": "code",
   "execution_count": 10,
   "id": "36b051a9",
   "metadata": {},
   "outputs": [
    {
     "data": {
      "text/plain": [
       "2"
      ]
     },
     "execution_count": 10,
     "metadata": {},
     "output_type": "execute_result"
    }
   ],
   "source": [
    "l.pop(1)"
   ]
  },
  {
   "cell_type": "code",
   "execution_count": 11,
   "id": "abc2ed74",
   "metadata": {},
   "outputs": [
    {
     "data": {
      "text/plain": [
       "[1, 3]"
      ]
     },
     "execution_count": 11,
     "metadata": {},
     "output_type": "execute_result"
    }
   ],
   "source": [
    "l"
   ]
  },
  {
   "cell_type": "code",
   "execution_count": 12,
   "id": "7afe18b2",
   "metadata": {},
   "outputs": [
    {
     "data": {
      "text/plain": [
       "2"
      ]
     },
     "execution_count": 12,
     "metadata": {},
     "output_type": "execute_result"
    }
   ],
   "source": [
    "#count is used to get no of occurences of element in a list\n",
    "l = ['apple','banana','apple','orange']\n",
    "l.count('apple')"
   ]
  },
  {
   "cell_type": "code",
   "execution_count": 14,
   "id": "2559bc54",
   "metadata": {},
   "outputs": [
    {
     "data": {
      "text/plain": [
       "[4, 5, 6, 1, 2, 3]"
      ]
     },
     "execution_count": 14,
     "metadata": {},
     "output_type": "execute_result"
    }
   ],
   "source": [
    "# extend can be used to add a list at end of another list \n",
    "l = [1,2,3]\n",
    "l1 = [4,5,6]\n",
    "l1.extend(l)\n",
    "l1"
   ]
  },
  {
   "cell_type": "markdown",
   "id": "1d747e16",
   "metadata": {},
   "source": [
    "# SET"
   ]
  },
  {
   "cell_type": "code",
   "execution_count": 15,
   "id": "2d12d3fb",
   "metadata": {},
   "outputs": [],
   "source": [
    "#it is a unordered collection of data and it do not allo w duplicate elements"
   ]
  },
  {
   "cell_type": "code",
   "execution_count": 16,
   "id": "cb5edcb9",
   "metadata": {},
   "outputs": [],
   "source": [
    "s = {1,2,3,4,3}"
   ]
  },
  {
   "cell_type": "code",
   "execution_count": 17,
   "id": "0b903303",
   "metadata": {},
   "outputs": [
    {
     "data": {
      "text/plain": [
       "{1, 2, 3, 4}"
      ]
     },
     "execution_count": 17,
     "metadata": {},
     "output_type": "execute_result"
    }
   ],
   "source": [
    "s"
   ]
  },
  {
   "cell_type": "code",
   "execution_count": 19,
   "id": "e17efc75",
   "metadata": {},
   "outputs": [
    {
     "data": {
      "text/plain": [
       "set"
      ]
     },
     "execution_count": 19,
     "metadata": {},
     "output_type": "execute_result"
    }
   ],
   "source": [
    "type(s)"
   ]
  },
  {
   "cell_type": "code",
   "execution_count": 20,
   "id": "a09b757a",
   "metadata": {},
   "outputs": [],
   "source": [
    "#add method is used to add an element to existing set"
   ]
  },
  {
   "cell_type": "code",
   "execution_count": 21,
   "id": "2f242912",
   "metadata": {},
   "outputs": [],
   "source": [
    "s.add(6)"
   ]
  },
  {
   "cell_type": "code",
   "execution_count": 22,
   "id": "1e47ef50",
   "metadata": {},
   "outputs": [
    {
     "data": {
      "text/plain": [
       "{1, 2, 3, 4, 6}"
      ]
     },
     "execution_count": 22,
     "metadata": {},
     "output_type": "execute_result"
    }
   ],
   "source": [
    "s"
   ]
  },
  {
   "cell_type": "code",
   "execution_count": 23,
   "id": "f8834832",
   "metadata": {},
   "outputs": [],
   "source": [
    "#remove used to remove all occurences from set\n",
    "s.remove(4)"
   ]
  },
  {
   "cell_type": "code",
   "execution_count": 24,
   "id": "9c3f3da8",
   "metadata": {},
   "outputs": [
    {
     "data": {
      "text/plain": [
       "{1, 2, 3, 6}"
      ]
     },
     "execution_count": 24,
     "metadata": {},
     "output_type": "execute_result"
    }
   ],
   "source": [
    "s"
   ]
  },
  {
   "cell_type": "code",
   "execution_count": 25,
   "id": "1900a5a8",
   "metadata": {},
   "outputs": [
    {
     "data": {
      "text/plain": [
       "1"
      ]
     },
     "execution_count": 25,
     "metadata": {},
     "output_type": "execute_result"
    }
   ],
   "source": [
    "#pop removes an arbitrary element from set\n",
    "s.pop()"
   ]
  },
  {
   "cell_type": "code",
   "execution_count": 1,
   "id": "d0ae4df2",
   "metadata": {},
   "outputs": [
    {
     "data": {
      "text/plain": [
       "{1}"
      ]
     },
     "execution_count": 1,
     "metadata": {},
     "output_type": "execute_result"
    }
   ],
   "source": [
    "#difference s1 - s2\n",
    "s1 = {1,2,3}\n",
    "s2 = {2,3}\n",
    "s1.difference(s2)"
   ]
  },
  {
   "cell_type": "code",
   "execution_count": 2,
   "id": "40e1519a",
   "metadata": {},
   "outputs": [
    {
     "data": {
      "text/plain": [
       "{2, 3}"
      ]
     },
     "execution_count": 2,
     "metadata": {},
     "output_type": "execute_result"
    }
   ],
   "source": [
    "#intersection is the similar elements present in both the sets\n",
    "s1.intersection(s2)"
   ]
  },
  {
   "cell_type": "code",
   "execution_count": null,
   "id": "1993d197",
   "metadata": {},
   "outputs": [],
   "source": []
  }
 ],
 "metadata": {
  "kernelspec": {
   "display_name": "Python 3",
   "language": "python",
   "name": "python3"
  },
  "language_info": {
   "codemirror_mode": {
    "name": "ipython",
    "version": 3
   },
   "file_extension": ".py",
   "mimetype": "text/x-python",
   "name": "python",
   "nbconvert_exporter": "python",
   "pygments_lexer": "ipython3",
   "version": "3.8.8"
  }
 },
 "nbformat": 4,
 "nbformat_minor": 5
}
